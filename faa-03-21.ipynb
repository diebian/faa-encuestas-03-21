{
 "cells": [
  {
   "cell_type": "code",
   "execution_count": 126,
   "metadata": {},
   "outputs": [],
   "source": [
    "import pandas as pd\n",
    "from datetime import datetime"
   ]
  },
  {
   "cell_type": "code",
   "execution_count": 127,
   "metadata": {},
   "outputs": [],
   "source": [
    "filename = \"Percepciones sobre temas de desarrollo rural (Responses) \"\n",
    "version = \"202103131015\"\n",
    "source = \"./source/\" + filename + version  + \".xlsx\"\n",
    "data = pd.read_excel(source)\n",
    "\n",
    "# data.head()"
   ]
  },
  {
   "cell_type": "code",
   "execution_count": 128,
   "metadata": {
    "scrolled": true
   },
   "outputs": [
    {
     "data": {
      "text/plain": [
       "array(['Timestamp', '1.\\t¿A qué grupo de edad pertenece?', '2.\\tSexo',\n",
       "       '3.\\tDepartamento donde vive', '4.\\tMunicipio donde vive',\n",
       "       '5.\\tVive en el área:',\n",
       "       '6.\\tSegún su percepción, cuál considera Usted que es el principal contaminante del medio ambiente, del agua, de los suelos y otros, en la comunidad/ciudad donde vive? ',\n",
       "       '7.\\t¿Sabe lo que es un producto transgénico?',\n",
       "       '8.\\t ¿Puede compartir su definición de transgénico?',\n",
       "       '9.\\tEn su opinión, está de acuerdo en que Bolivia, para crecer económicamente ¿debe continuar ampliando la superficie agropecuaria (frontera agrícola) a costa de los bosques?',\n",
       "       '10.\\t¿Puede nombrar alguna alternativa de crecimiento de la economía, con menor deforestación y contaminación?',\n",
       "       '11. Respuesta A:', '12. Respuesta A:', '13. Respuesta A:',\n",
       "       '14.\\t¿Actualmente Usted se dedica a la agricultura familiar?',\n",
       "       '15. Si se dedica, ¿quisiera continuar haciéndolo?',\n",
       "       '16.\\tSi no se dedica ¿quisiera hacerlo en un futuro?',\n",
       "       '18.\\t¿Qué opinión le merecen los jóvenes, mujeres y hombres, que han optado por quedarse en el campo?',\n",
       "       '19.\\t¿Considera que Bolivia cuenta con políticas definidas para el desarrollo de la agricultura familiar?',\n",
       "       '20.\\tRespuesta A:', '17.  ¿Por qué?', '11. Respuesta B:',\n",
       "       '11. Respuesta C:', '12. Respuesta B:', '12. Respuesta C:',\n",
       "       '13. Respuesta B:', '13. Respuesta C:', '20.\\tRespuesta B:'],\n",
       "      dtype=object)"
      ]
     },
     "execution_count": 128,
     "metadata": {},
     "output_type": "execute_result"
    }
   ],
   "source": [
    "data.columns.values"
   ]
  },
  {
   "cell_type": "code",
   "execution_count": 129,
   "metadata": {
    "scrolled": false
   },
   "outputs": [],
   "source": [
    "# Columns reOrder\n",
    "\n",
    "columnsTitles = [\n",
    "    'Timestamp',\n",
    "    '1.\\t¿A qué grupo de edad pertenece?',\n",
    "    '2.\\tSexo',\n",
    "    '3.\\tDepartamento donde vive',\n",
    "    '4.\\tMunicipio donde vive',\n",
    "    '5.\\tVive en el área:',\n",
    "    '6.\\tSegún su percepción, cuál considera Usted que es el principal contaminante del medio ambiente, del agua, de los suelos y otros, en la comunidad/ciudad donde vive? ',\n",
    "    '7.\\t¿Sabe lo que es un producto transgénico?',\n",
    "    '8.\\t ¿Puede compartir su definición de transgénico?',\n",
    "    '9.\\tEn su opinión, está de acuerdo en que Bolivia, para crecer económicamente ¿debe continuar ampliando la superficie agropecuaria (frontera agrícola) a costa de los bosques?',\n",
    "    '10.\\t¿Puede nombrar alguna alternativa de crecimiento de la economía, con menor deforestación y contaminación?',\n",
    "    '11. Respuesta A:',\n",
    "    '11. Respuesta B:',\n",
    "    '11. Respuesta C:',\n",
    "    '12. Respuesta A:',\n",
    "    '12. Respuesta B:',\n",
    "    '12. Respuesta C:',\n",
    "    '13. Respuesta A:',\n",
    "    '13. Respuesta B:',\n",
    "    '13. Respuesta C:',\n",
    "    '14.\\t¿Actualmente Usted se dedica a la agricultura familiar?',\n",
    "    '15. Si se dedica, ¿quisiera continuar haciéndolo?',\n",
    "    '16.\\tSi no se dedica ¿quisiera hacerlo en un futuro?',\n",
    "    '17.  ¿Por qué?',\n",
    "    '18.\\t¿Qué opinión le merecen los jóvenes, mujeres y hombres, que han optado por quedarse en el campo?',\n",
    "    '19.\\t¿Considera que Bolivia cuenta con políticas definidas para el desarrollo de la agricultura familiar?',\n",
    "    '20.\\tRespuesta A:',\n",
    "    '20.\\tRespuesta B:'\n",
    "]\n",
    "\n",
    "dataReOrder = data.reindex(columns=columnsTitles)\n"
   ]
  },
  {
   "cell_type": "markdown",
   "metadata": {},
   "source": [
    "## Define titles"
   ]
  },
  {
   "cell_type": "code",
   "execution_count": 130,
   "metadata": {},
   "outputs": [],
   "source": [
    "titles = [\n",
    "    'Fecha de Registro',  # 0\n",
    "    '1.¿A qué grupo de edad pertenece?',  # 1\n",
    "    '2.Sexo',  # 2\n",
    "    '3.Departamento donde vive',  # 3\n",
    "    '4.Municipio donde vive',  # 4\n",
    "    '5.Vive en el área:',  # 5\n",
    "    '6.Según su percepción, cuál considera Usted que es el principal contaminante del medio ambiente, del agua, de los suelos y otros, en la comunidad/ciudad donde vive?',  # 6\n",
    "    '7.¿Sabe lo que es un producto transgénico?',  # 7\n",
    "    '8.¿Puede compartir su definición de transgénico?',  # 8\n",
    "    '9.En su opinión, está de acuerdo en que Bolivia, para crecer económicamente ¿debe continuar ampliando la superficie agropecuaria (frontera agrícola) a costa de los bosques?',  # 9\n",
    "    '10.¿Puede nombrar alguna alternativa de crecimiento de la economía, con menor deforestación y contaminación?',  # 10\n",
    "    '11.Respuesta A:',  # 11\n",
    "    '11.Respuesta B:',  # 12\n",
    "    '11.Respuesta C:',  # 13\n",
    "    '12.Respuesta A:',  # 14\n",
    "    '12.Respuesta B:',  # 15\n",
    "    '12.Respuesta C:',  # 16\n",
    "    '13.Respuesta A:',  # 17\n",
    "    '13.Respuesta B:',  # 18\n",
    "    '13.Respuesta C:',  # 19\n",
    "    '14.¿Actualmente Usted se dedica a la agricultura familiar?',  # 20\n",
    "    '15.Si se dedica, ¿quisiera continuar haciéndolo?',  # 21\n",
    "    '16.Si no se dedica ¿quisiera hacerlo en un futuro?',  # 22\n",
    "    '17.¿Por qué?',  # 23\n",
    "    '18.¿Qué opinión le merecen los jóvenes, mujeres y hombres, que han optado por quedarse en el campo?',  # 24\n",
    "    '19.¿Considera que Bolivia cuenta con políticas definidas para el desarrollo de la agricultura familiar?',  # 25\n",
    "    '20.Respuesta A:',  # 26\n",
    "    '20.Respuesta B:'  # 27\n",
    "]"
   ]
  },
  {
   "cell_type": "code",
   "execution_count": null,
   "metadata": {},
   "outputs": [],
   "source": []
  },
  {
   "cell_type": "code",
   "execution_count": 131,
   "metadata": {},
   "outputs": [],
   "source": [
    "# dataReOrder.head()\n",
    "#  Rename columns\n",
    "dataRename = dataReOrder.rename(\n",
    "    columns={\n",
    "        'Timestamp': titles[0],\n",
    "        '1.\\t¿A qué grupo de edad pertenece?': titles[1],\n",
    "        '2.\\tSexo': titles[2],\n",
    "        '3.\\tDepartamento donde vive': titles[3],\n",
    "        '4.\\tMunicipio donde vive': titles[4],\n",
    "        '5.\\tVive en el área:': titles[5],\n",
    "        '6.\\tSegún su percepción, cuál considera Usted que es el principal contaminante del medio ambiente, del agua, de los suelos y otros, en la comunidad/ciudad donde vive? ': titles[6],\n",
    "        '7.\\t¿Sabe lo que es un producto transgénico?': titles[7],\n",
    "        '8.\\t ¿Puede compartir su definición de transgénico?': titles[8],\n",
    "        '9.\\tEn su opinión, está de acuerdo en que Bolivia, para crecer económicamente ¿debe continuar ampliando la superficie agropecuaria (frontera agrícola) a costa de los bosques?': titles[9],\n",
    "        '10.\\t¿Puede nombrar alguna alternativa de crecimiento de la economía, con menor deforestación y contaminación?': titles[10],\n",
    "        '11. Respuesta A:': titles[11],\n",
    "        '11. Respuesta B:': titles[12],\n",
    "        '11. Respuesta C:': titles[13],\n",
    "        '12. Respuesta A:': titles[14],\n",
    "        '12. Respuesta B:': titles[15],\n",
    "        '12. Respuesta C:': titles[16],\n",
    "        '13. Respuesta A:': titles[17],\n",
    "        '13. Respuesta B:': titles[18],\n",
    "        '13. Respuesta C:': titles[19],\n",
    "        '14.\\t¿Actualmente Usted se dedica a la agricultura familiar?': titles[20],\n",
    "        '15. Si se dedica, ¿quisiera continuar haciéndolo?': titles[21],\n",
    "        '16.\\tSi no se dedica ¿quisiera hacerlo en un futuro?': titles[22],\n",
    "        '17.  ¿Por qué?': titles[23],\n",
    "        '18.\\t¿Qué opinión le merecen los jóvenes, mujeres y hombres, que han optado por quedarse en el campo?': titles[24],\n",
    "        '19.\\t¿Considera que Bolivia cuenta con políticas definidas para el desarrollo de la agricultura familiar?': titles[25],\n",
    "        '20.\\tRespuesta A:': titles[26],\n",
    "        '20.\\tRespuesta B:': titles[27]\n",
    "    })"
   ]
  },
  {
   "cell_type": "code",
   "execution_count": 132,
   "metadata": {},
   "outputs": [],
   "source": [
    "# dataRename.head()"
   ]
  },
  {
   "cell_type": "code",
   "execution_count": 133,
   "metadata": {},
   "outputs": [],
   "source": [
    "# remove rows trash\n",
    "dataRemoveTrash = dataRename.drop(dataRename.index[[0,1,2,3]])\n",
    "# dataRemoveTrash.head()"
   ]
  },
  {
   "cell_type": "code",
   "execution_count": 134,
   "metadata": {},
   "outputs": [],
   "source": [
    "dateTimeObj  = datetime.now()\n",
    "version_filenameOrder = dateTimeObj.strftime(\"%d-%b-%Y %H_%M_%S\")\n",
    "# filenameOrder = \"./results/Encuestas \" + version + \".xlsx\"\n",
    "filenameOrder = \"./results/Encuestas depurdas.xlsx\"\n",
    "writer_filenameOrder = pd.ExcelWriter(filenameOrder, engine='xlsxwriter')\n",
    "\n",
    "# Convert the dataframe to an XlsxWriter Excel object.\n",
    "dataRemoveTrash.to_excel(writer_filenameOrder, sheet_name='Encuesta GForms', encoding=\"utf-8\")\n",
    "writer_filenameOrder.save()\n"
   ]
  },
  {
   "cell_type": "markdown",
   "metadata": {},
   "source": [
    "# Process"
   ]
  },
  {
   "cell_type": "code",
   "execution_count": 135,
   "metadata": {},
   "outputs": [
    {
     "name": "stdout",
     "output_type": "stream",
     "text": [
      "selection Columns\n",
      "['1.¿A qué grupo de edad pertenece?', '2.Sexo', '3.Departamento donde vive', '5.Vive en el área:', '6.Según su percepción, cuál considera Usted que es el principal contaminante del medio ambiente, del agua, de los suelos y otros, en la comunidad/ciudad donde vive?', '7.¿Sabe lo que es un producto transgénico?', '9.En su opinión, está de acuerdo en que Bolivia, para crecer económicamente ¿debe continuar ampliando la superficie agropecuaria (frontera agrícola) a costa de los bosques?', '14.¿Actualmente Usted se dedica a la agricultura familiar?', '15.Si se dedica, ¿quisiera continuar haciéndolo?', '16.Si no se dedica ¿quisiera hacerlo en un futuro?', '19.¿Considera que Bolivia cuenta con políticas definidas para el desarrollo de la agricultura familiar?']\n",
      "\n",
      "multiple Choice Columns\n",
      "['6.Según su percepción, cuál considera Usted que es el principal contaminante del medio ambiente, del agua, de los suelos y otros, en la comunidad/ciudad donde vive?']\n",
      "\n",
      "primary Columns\n",
      "[]\n"
     ]
    }
   ],
   "source": [
    "# columns name\n",
    "\n",
    "nameColumns = dataRemoveTrash.columns.values\n",
    "selectionColumns = [\n",
    "    titles[1], # P.1\n",
    "    titles[2], # P.2\n",
    "    titles[3], # P.3\n",
    "    titles[5], # P.5\n",
    "    \n",
    "    titles[6], # P.6\n",
    "    \n",
    "    titles[7], # P.7\n",
    "    titles[9], # P.9\n",
    "    titles[20], # P.14\n",
    "    titles[21], # P.15\n",
    "    titles[22], # P.16\n",
    "    titles[25]  # P.19\n",
    "] \n",
    "\n",
    "print(\"selection Columns\")\n",
    "print(selectionColumns)\n",
    "\n",
    "multipleChoiceColumns = [\n",
    "    titles[6] # P.6\n",
    "]\n",
    "print(\"\\nmultiple Choice Columns\")\n",
    "print(multipleChoiceColumns)\n",
    "\n",
    "primaryColumns = [\n",
    "    # titles[1], # P.1\n",
    "    # titles[2], # P.2\n",
    "    # titles[3], # P.3\n",
    "    # titles[4], # P.4\n",
    "    # titles[5], # P.5\n",
    "]\n",
    "\n",
    "openQuestions = [\n",
    "    titles[4], # P.4\n",
    "    titles[8], # P.8\n",
    "    titles[10], # P.10\n",
    "    \n",
    "    titles[11], # P.11 A\n",
    "    titles[12], # P.11 B\n",
    "    titles[13], # P.11 C\n",
    "    \n",
    "    titles[14], # P.12 A\n",
    "    titles[15], # P.12 B\n",
    "    titles[16], # P.12 C\n",
    "    \n",
    "    titles[17], # P.13 A\n",
    "    titles[18], # P.13 B\n",
    "    titles[19], # P.13 C\n",
    "    \n",
    "    titles[23], # P.17\n",
    "    titles[24], # P.18\n",
    "    \n",
    "    titles[26], # P.20 A\n",
    "    titles[27]  # P.20 B\n",
    "        \n",
    "]\n",
    "\n",
    "print(\"\\nprimary Columns\")\n",
    "print(primaryColumns)"
   ]
  },
  {
   "cell_type": "markdown",
   "metadata": {},
   "source": [
    "# Columns split"
   ]
  },
  {
   "cell_type": "code",
   "execution_count": 142,
   "metadata": {},
   "outputs": [
    {
     "data": {
      "text/plain": [
       "['Fecha de Registro',\n",
       " '1.¿A qué grupo de edad pertenece?',\n",
       " '2.Sexo',\n",
       " '3.Departamento donde vive',\n",
       " '4.Municipio donde vive',\n",
       " '5.Vive en el área:',\n",
       " '6.Según su percepción, cuál considera Usted que es el principal contaminante del medio ambiente, del agua, de los suelos y otros, en la comunidad/ciudad donde vive?',\n",
       " '7.¿Sabe lo que es un producto transgénico?',\n",
       " '8.¿Puede compartir su definición de transgénico?',\n",
       " '9.En su opinión, está de acuerdo en que Bolivia, para crecer económicamente ¿debe continuar ampliando la superficie agropecuaria (frontera agrícola) a costa de los bosques?',\n",
       " '10.¿Puede nombrar alguna alternativa de crecimiento de la economía, con menor deforestación y contaminación?',\n",
       " '11.Respuesta A:',\n",
       " '11.Respuesta B:',\n",
       " '11.Respuesta C:',\n",
       " '12.Respuesta A:',\n",
       " '12.Respuesta B:',\n",
       " '12.Respuesta C:',\n",
       " '13.Respuesta A:',\n",
       " '13.Respuesta B:',\n",
       " '13.Respuesta C:',\n",
       " '14.¿Actualmente Usted se dedica a la agricultura familiar?',\n",
       " '15.Si se dedica, ¿quisiera continuar haciéndolo?',\n",
       " '16.Si no se dedica ¿quisiera hacerlo en un futuro?',\n",
       " '17.¿Por qué?',\n",
       " '18.¿Qué opinión le merecen los jóvenes, mujeres y hombres, que han optado por quedarse en el campo?',\n",
       " '19.¿Considera que Bolivia cuenta con políticas definidas para el desarrollo de la agricultura familiar?',\n",
       " '20.Respuesta A:',\n",
       " '20.Respuesta B:']"
      ]
     },
     "execution_count": 142,
     "metadata": {},
     "output_type": "execute_result"
    }
   ],
   "source": [
    "titles"
   ]
  },
  {
   "cell_type": "code",
   "execution_count": 143,
   "metadata": {},
   "outputs": [
    {
     "data": {
      "text/plain": [
       "['4.Municipio donde vive',\n",
       " '8.¿Puede compartir su definición de transgénico?',\n",
       " '10.¿Puede nombrar alguna alternativa de crecimiento de la economía, con menor deforestación y contaminación?',\n",
       " '11.Respuesta A:',\n",
       " '11.Respuesta B:',\n",
       " '11.Respuesta C:',\n",
       " '12.Respuesta A:',\n",
       " '12.Respuesta B:',\n",
       " '12.Respuesta C:',\n",
       " '13.Respuesta A:',\n",
       " '13.Respuesta B:',\n",
       " '13.Respuesta C:',\n",
       " '17.¿Por qué?',\n",
       " '18.¿Qué opinión le merecen los jóvenes, mujeres y hombres, que han optado por quedarse en el campo?',\n",
       " '20.Respuesta A:',\n",
       " '20.Respuesta B:']"
      ]
     },
     "execution_count": 143,
     "metadata": {},
     "output_type": "execute_result"
    }
   ],
   "source": [
    "openQuestions"
   ]
  },
  {
   "cell_type": "code",
   "execution_count": 144,
   "metadata": {},
   "outputs": [
    {
     "data": {
      "text/plain": [
       "['1.¿A qué grupo de edad pertenece?',\n",
       " '2.Sexo',\n",
       " '3.Departamento donde vive',\n",
       " '5.Vive en el área:',\n",
       " '6.Según su percepción, cuál considera Usted que es el principal contaminante del medio ambiente, del agua, de los suelos y otros, en la comunidad/ciudad donde vive?',\n",
       " '7.¿Sabe lo que es un producto transgénico?',\n",
       " '9.En su opinión, está de acuerdo en que Bolivia, para crecer económicamente ¿debe continuar ampliando la superficie agropecuaria (frontera agrícola) a costa de los bosques?',\n",
       " '14.¿Actualmente Usted se dedica a la agricultura familiar?',\n",
       " '15.Si se dedica, ¿quisiera continuar haciéndolo?',\n",
       " '16.Si no se dedica ¿quisiera hacerlo en un futuro?',\n",
       " '19.¿Considera que Bolivia cuenta con políticas definidas para el desarrollo de la agricultura familiar?']"
      ]
     },
     "execution_count": 144,
     "metadata": {},
     "output_type": "execute_result"
    }
   ],
   "source": [
    "selectionColumns"
   ]
  },
  {
   "cell_type": "code",
   "execution_count": 145,
   "metadata": {},
   "outputs": [
    {
     "name": "stdout",
     "output_type": "stream",
     "text": [
      "1.¿A qué grupo de edad pertenece?\n",
      "2.Sexo\n",
      "3.Departamento donde vive\n",
      "5.Vive en el área:\n",
      "6.Según su percepción, cuál considera Usted que es el principal contaminante del medio ambiente, del agua, de los suelos y otros, en la comunidad/ciudad donde vive?\n",
      "7.¿Sabe lo que es un producto transgénico?\n",
      "9.En su opinión, está de acuerdo en que Bolivia, para crecer económicamente ¿debe continuar ampliando la superficie agropecuaria (frontera agrícola) a costa de los bosques?\n",
      "14.¿Actualmente Usted se dedica a la agricultura familiar?\n",
      "15.Si se dedica, ¿quisiera continuar haciéndolo?\n",
      "16.Si no se dedica ¿quisiera hacerlo en un futuro?\n",
      "19.¿Considera que Bolivia cuenta con políticas definidas para el desarrollo de la agricultura familiar?\n"
     ]
    }
   ],
   "source": [
    "for header in titles:\n",
    "    if header in selectionColumns :\n",
    "        print(header)\n",
    "    "
   ]
  },
  {
   "cell_type": "code",
   "execution_count": 170,
   "metadata": {
    "scrolled": true
   },
   "outputs": [
    {
     "name": "stdout",
     "output_type": "stream",
     "text": [
      "Fecha de Registro\n",
      "Copy Data: Fecha de Registro\n",
      "\n",
      "1.¿A qué grupo de edad pertenece?\n",
      "Name column: 1.¿A qué grupo de edad pertenece?\n",
      "By columns \n",
      "['1.¿A qué grupo de edad pertenece?']\n",
      "\n",
      "Options\n",
      "2.Sexo\n",
      "Name column: 2.Sexo\n",
      "By columns \n",
      "['2.Sexo']\n",
      "\n",
      "Options\n",
      "3.Departamento donde vive\n",
      "Name column: 3.Departamento donde vive\n",
      "By columns \n",
      "['3.Departamento donde vive']\n",
      "\n",
      "Options\n",
      "4.Municipio donde vive\n",
      "Copy Data: 4.Municipio donde vive\n",
      "\n",
      "5.Vive en el área:\n",
      "Name column: 5.Vive en el área:\n",
      "By columns \n",
      "['5.Vive en el área:']\n",
      "\n",
      "Options\n",
      "6.Según su percepción, cuál considera Usted que es el principal contaminante del medio ambiente, del agua, de los suelos y otros, en la comunidad/ciudad donde vive?\n",
      "Name column: 6.Según su percepción, cuál considera Usted que es el principal contaminante del medio ambiente, del agua, de los suelos y otros, en la comunidad/ciudad donde vive?\n",
      "By columns \n",
      "['6.Según su percepción, cuál considera Usted que es el principal contaminante del medio ambiente, del agua, de los suelos y otros, en la comunidad/ciudad donde vive?']\n",
      "\n",
      "Options\n",
      "7.¿Sabe lo que es un producto transgénico?\n",
      "Name column: 7.¿Sabe lo que es un producto transgénico?\n",
      "By columns \n",
      "['7.¿Sabe lo que es un producto transgénico?']\n",
      "\n",
      "Options\n",
      "8.¿Puede compartir su definición de transgénico?\n",
      "Copy Data: 8.¿Puede compartir su definición de transgénico?\n",
      "\n",
      "9.En su opinión, está de acuerdo en que Bolivia, para crecer económicamente ¿debe continuar ampliando la superficie agropecuaria (frontera agrícola) a costa de los bosques?\n",
      "Name column: 9.En su opinión, está de acuerdo en que Bolivia, para crecer económicamente ¿debe continuar ampliando la superficie agropecuaria (frontera agrícola) a costa de los bosques?\n",
      "By columns \n",
      "['9.En su opinión, está de acuerdo en que Bolivia, para crecer económicamente ¿debe continuar ampliando la superficie agropecuaria (frontera agrícola) a costa de los bosques?']\n",
      "\n",
      "Options\n",
      "10.¿Puede nombrar alguna alternativa de crecimiento de la economía, con menor deforestación y contaminación?\n",
      "Copy Data: 10.¿Puede nombrar alguna alternativa de crecimiento de la economía, con menor deforestación y contaminación?\n",
      "\n",
      "11.Respuesta A:\n",
      "Copy Data: 11.Respuesta A:\n",
      "\n",
      "11.Respuesta B:\n",
      "Copy Data: 11.Respuesta B:\n",
      "\n",
      "11.Respuesta C:\n",
      "Copy Data: 11.Respuesta C:\n",
      "\n",
      "12.Respuesta A:\n",
      "Copy Data: 12.Respuesta A:\n",
      "\n",
      "12.Respuesta B:\n",
      "Copy Data: 12.Respuesta B:\n",
      "\n",
      "12.Respuesta C:\n",
      "Copy Data: 12.Respuesta C:\n",
      "\n",
      "13.Respuesta A:\n",
      "Copy Data: 13.Respuesta A:\n",
      "\n",
      "13.Respuesta B:\n",
      "Copy Data: 13.Respuesta B:\n",
      "\n",
      "13.Respuesta C:\n",
      "Copy Data: 13.Respuesta C:\n",
      "\n",
      "14.¿Actualmente Usted se dedica a la agricultura familiar?\n",
      "Name column: 14.¿Actualmente Usted se dedica a la agricultura familiar?\n",
      "By columns \n",
      "['14.¿Actualmente Usted se dedica a la agricultura familiar?']\n",
      "\n",
      "Options\n",
      "15.Si se dedica, ¿quisiera continuar haciéndolo?\n",
      "Name column: 15.Si se dedica, ¿quisiera continuar haciéndolo?\n",
      "By columns \n",
      "['15.Si se dedica, ¿quisiera continuar haciéndolo?']\n",
      "\n",
      "Options\n",
      "16.Si no se dedica ¿quisiera hacerlo en un futuro?\n",
      "Name column: 16.Si no se dedica ¿quisiera hacerlo en un futuro?\n",
      "By columns \n",
      "['16.Si no se dedica ¿quisiera hacerlo en un futuro?']\n",
      "\n",
      "Options\n",
      "17.¿Por qué?\n",
      "Copy Data: 17.¿Por qué?\n",
      "\n",
      "18.¿Qué opinión le merecen los jóvenes, mujeres y hombres, que han optado por quedarse en el campo?\n",
      "Copy Data: 18.¿Qué opinión le merecen los jóvenes, mujeres y hombres, que han optado por quedarse en el campo?\n",
      "\n",
      "19.¿Considera que Bolivia cuenta con políticas definidas para el desarrollo de la agricultura familiar?\n",
      "Name column: 19.¿Considera que Bolivia cuenta con políticas definidas para el desarrollo de la agricultura familiar?\n",
      "By columns \n",
      "['19.¿Considera que Bolivia cuenta con políticas definidas para el desarrollo de la agricultura familiar?']\n",
      "\n",
      "Options\n",
      "20.Respuesta A:\n",
      "Copy Data: 20.Respuesta A:\n",
      "\n",
      "20.Respuesta B:\n",
      "Copy Data: 20.Respuesta B:\n",
      "\n"
     ]
    }
   ],
   "source": [
    "dataToColumns = dataRemoveTrash.copy()\n",
    "writer_byColumns = pd.ExcelWriter(\"./results/porColumnas.xlsx\", engine=\"xlsxwriter\")\n",
    "\n",
    "# nameColumn = selectionColumns[1]\n",
    "\n",
    "       \n",
    "# for nameColumn in selectionColumns:\n",
    "for nameColumn in titles:\n",
    "    print(nameColumn)\n",
    "    \n",
    "    sheet_name = str(nameColumn[:28])\n",
    "    sheet_name_slugify = sheet_name.replace(':', '')\n",
    "    sheet_name_slugify = sheet_name_slugify.replace('¿', '')\n",
    "    sheet_name_slugify = sheet_name_slugify.replace('?', '')\n",
    "    \n",
    "    if nameColumn in selectionColumns :\n",
    "\n",
    "        primaryColumnsFilter = primaryColumns.copy()\n",
    "\n",
    "        if nameColumn in primaryColumns:\n",
    "            primaryColumnsFilter.remove(nameColumn)\n",
    "            print(primaryColumnsFilter)\n",
    "\n",
    "        byColumns = primaryColumnsFilter + [nameColumn]\n",
    "        dataFilter = dataToColumns[byColumns]\n",
    "\n",
    "        print(\"Name column: \" + nameColumn)\n",
    "        print(\"By columns \")\n",
    "        print(byColumns)\n",
    "        print(\"\\nOptions\")\n",
    "        df = dataFilter[nameColumn].dropna().unique()\n",
    "\n",
    "        options = []\n",
    "        optionsMultiple = []\n",
    "\n",
    "        for idx, colNew in enumerate(df):\n",
    "            # options.append(colNew.strip())\n",
    "            # options2 = list(dict.fromkeys(options))\n",
    "            # print(colNew)\n",
    "\n",
    "            parts = colNew.split(\",\")\n",
    "            # print(parts)\n",
    "            for idx2, part in enumerate(parts):\n",
    "                #print(p.strip())\n",
    "                options.append(part.strip())\n",
    "\n",
    "            optionsMultiple = list(dict.fromkeys(options))\n",
    "\n",
    "            dataFilterWithColumns = dataFilter.copy()\n",
    "            # print ( sorted(options))\n",
    "            for opt in sorted(optionsMultiple): # options2\n",
    "                temp = dataFilterWithColumns[nameColumn]\n",
    "                res = temp.str.find(opt)\n",
    "\n",
    "                dataFilterWithColumns[opt] = res + 1\n",
    "\n",
    "        # print(options)\n",
    "        # print(dataFilterWithColumns)\n",
    "        \n",
    "        dataFilterWithColumns.to_excel(writer_byColumns, sheet_name=sheet_name_slugify, encoding=\"utf-8\")\n",
    "\n",
    "    else: \n",
    "        dataCopyComplete  = dataToColumns[nameColumn]\n",
    "        # print(dataCopyComplete)\n",
    "        print('Copy Data: ' + nameColumn + '\\n')\n",
    "\n",
    "        if nameColumn != titles[0]:\n",
    "            dataCopyComplete.to_excel(writer_byColumns, sheet_name=sheet_name_slugify, encoding=\"utf-8\")\n",
    "\n",
    "writer_byColumns.save()\n",
    "\n"
   ]
  },
  {
   "cell_type": "code",
   "execution_count": null,
   "metadata": {},
   "outputs": [],
   "source": [
    "\n",
    "\n"
   ]
  },
  {
   "cell_type": "code",
   "execution_count": null,
   "metadata": {},
   "outputs": [],
   "source": []
  },
  {
   "cell_type": "code",
   "execution_count": null,
   "metadata": {},
   "outputs": [],
   "source": []
  },
  {
   "cell_type": "code",
   "execution_count": null,
   "metadata": {},
   "outputs": [],
   "source": []
  }
 ],
 "metadata": {
  "kernelspec": {
   "display_name": "Python 3",
   "language": "python",
   "name": "python3"
  },
  "language_info": {
   "codemirror_mode": {
    "name": "ipython",
    "version": 3
   },
   "file_extension": ".py",
   "mimetype": "text/x-python",
   "name": "python",
   "nbconvert_exporter": "python",
   "pygments_lexer": "ipython3",
   "version": "3.8.5"
  }
 },
 "nbformat": 4,
 "nbformat_minor": 4
}
